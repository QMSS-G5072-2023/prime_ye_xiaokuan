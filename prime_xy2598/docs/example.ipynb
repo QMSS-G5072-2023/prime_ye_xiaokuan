{
    "cells": [
        {
            "cell_type": "markdown",
            "metadata": {},
            "source": [
                "# Example usage\n",
                "\n",
                "To use `prime_xy2598` in a project:"
            ]
        },
        {
            "cell_type": "code",
            "execution_count": 1,
            "metadata": {},
            "outputs": [
                {
                    "ename": "ModuleNotFoundError",
                    "evalue": "No module named 'prime_xy2598'",
                    "output_type": "error",
                    "traceback": [
                        "\u001b[0;31m---------------------------------------------------------------------------\u001b[0m",
                        "\u001b[0;31mModuleNotFoundError\u001b[0m                       Traceback (most recent call last)",
                        "\u001b[1;32m/Users/xiaokuan/Desktop/prime_xy2598/docs/example.ipynb Cell 2\u001b[0m line \u001b[0;36m1\n\u001b[0;32m----> <a href='vscode-notebook-cell:/Users/xiaokuan/Desktop/prime_xy2598/docs/example.ipynb#W1sZmlsZQ%3D%3D?line=0'>1</a>\u001b[0m \u001b[39mimport\u001b[39;00m \u001b[39mprime_xy2598\u001b[39;00m\n\u001b[1;32m      <a href='vscode-notebook-cell:/Users/xiaokuan/Desktop/prime_xy2598/docs/example.ipynb#W1sZmlsZQ%3D%3D?line=2'>3</a>\u001b[0m \u001b[39mprint\u001b[39m(prime_xy2598\u001b[39m.\u001b[39m__version__)\n",
                        "\u001b[0;31mModuleNotFoundError\u001b[0m: No module named 'prime_xy2598'"
                    ]
                }
            ],
            "source": [
                "import prime_xy2598\n",
                "\n",
                "print(prime_xy2598.__version__)"
            ]
        }
    ],
    "metadata": {
        "kernelspec": {
            "display_name": "Python 3",
            "language": "python",
            "name": "python3"
        },
        "language_info": {
            "codemirror_mode": {
                "name": "ipython",
                "version": 3
            },
            "file_extension": ".py",
            "mimetype": "text/x-python",
            "name": "python",
            "nbconvert_exporter": "python",
            "pygments_lexer": "ipython3",
            "version": "3.11.5"
        }
    },
    "nbformat": 4,
    "nbformat_minor": 4
}
